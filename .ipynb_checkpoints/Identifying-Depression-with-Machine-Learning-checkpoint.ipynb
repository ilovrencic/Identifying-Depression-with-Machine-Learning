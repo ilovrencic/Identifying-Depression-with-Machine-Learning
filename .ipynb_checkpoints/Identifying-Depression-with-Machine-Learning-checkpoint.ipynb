{
 "cells": [
  {
   "cell_type": "markdown",
   "metadata": {},
   "source": [
    "# Identfying Depression with Machine Learning"
   ]
  },
  {
   "cell_type": "markdown",
   "metadata": {},
   "source": [
    "## This is an implementation of the paper I was reimplementating for my Machine Learning Project at University of Zagreb"
   ]
  },
  {
   "cell_type": "markdown",
   "metadata": {},
   "source": [
    "### Introduction (for more details please check my paper). We are going to begin with parsing the dataset. The dataset is RSDD ( Reddit Self-Diagnose Depression dataset)"
   ]
  },
  {
   "cell_type": "code",
   "execution_count": 4,
   "metadata": {},
   "outputs": [],
   "source": [
    "#First lets parse the training dataset\n",
    "from Parser import *\n",
    "\n",
    "#here we will get the dict of two datasets - one positive and negative. Negative is non-depressed and positive is depressed.\n",
    "training_parser = Parser([DatasetTraining.POSITIVE,DatasetTraining.NEGATIVE])\n",
    "training_data = training_parser.parse()"
   ]
  },
  {
   "cell_type": "markdown",
   "metadata": {},
   "source": [
    "#### Lets see the input of one post from the user"
   ]
  },
  {
   "cell_type": "markdown",
   "metadata": {},
   "source": [
    "#### As we can see, we have a id ( which represents user's id), date, title and content of the reddit post. In this reimplementation we are going to only use content as an feature."
   ]
  },
  {
   "cell_type": "code",
   "execution_count": 11,
   "metadata": {},
   "outputs": [
    {
     "name": "stdout",
     "output_type": "stream",
     "text": [
      "\u001b[1mId\u001b[0m\n",
      "train_subject4630\n",
      "\n",
      "\u001b[1mDate\u001b[0m\n",
      " 2012-05-14 03:18:18 \n",
      "\n",
      "\u001b[1mTitle\u001b[0m\n",
      "   \n",
      "\n",
      "\u001b[1mContent\u001b[0m\n",
      " K, American here. The anthropocentrism of science has formulated an inability to process without quantification. This is a fundamental flaw, and leads to the lovely fagfarts statement of knowledge being subjective, nothing is certain as true.\n",
      " \n",
      "\n",
      "\n"
     ]
    }
   ],
   "source": [
    "user_post = training_data[DatasetTraining.POSITIVE][324]\n",
    "print(user_post)"
   ]
  },
  {
   "cell_type": "markdown",
   "metadata": {},
   "source": [
    "# Preprocessing step"
   ]
  },
  {
   "cell_type": "markdown",
   "metadata": {},
   "source": [
    "### Authors of the paper have only done Bag-of-words approach, so we are going to do the same."
   ]
  },
  {
   "cell_type": "markdown",
   "metadata": {},
   "source": [
    "## Bag-of-words "
   ]
  },
  {
   "cell_type": "code",
   "execution_count": 12,
   "metadata": {},
   "outputs": [],
   "source": [
    "import numpy\n",
    "from sklearn.feature_extraction.text import CountVectorizer\n",
    "from nltk.corpus import stopwords"
   ]
  },
  {
   "cell_type": "markdown",
   "metadata": {},
   "source": [
    "#### Initializing all the preprocessing tools"
   ]
  },
  {
   "cell_type": "code",
   "execution_count": 34,
   "metadata": {},
   "outputs": [],
   "source": [
    "vectorizer = CountVectorizer(stop_words = \"english\")"
   ]
  },
  {
   "cell_type": "markdown",
   "metadata": {},
   "source": [
    "#### Parsing the datasets and seeing the figures - like number of posts"
   ]
  },
  {
   "cell_type": "code",
   "execution_count": 24,
   "metadata": {},
   "outputs": [],
   "source": [
    "#lets again parse the training dataset and test dataset\n",
    "training_parser = Parser([DatasetTraining.POSITIVE,DatasetTraining.NEGATIVE])\n",
    "training_data = training_parser.parse()\n",
    "\n",
    "test_parser = Parser([DatasetTest.POSITIVE,DatasetTest.NEGATIVE])\n",
    "test_data = test_parser.parse()"
   ]
  },
  {
   "cell_type": "code",
   "execution_count": 28,
   "metadata": {},
   "outputs": [
    {
     "name": "stdout",
     "output_type": "stream",
     "text": [
      "30934\n",
      "264575\n",
      "18783\n",
      "218053\n"
     ]
    }
   ],
   "source": [
    "#Training dataset \n",
    "#Positive users (number of depressed users)\n",
    "print(len(training_data[DatasetTraining.POSITIVE]))\n",
    "\n",
    "#Training dataset \n",
    "#Negative users (number of non-depressed users)\n",
    "print(len(training_data[DatasetTraining.NEGATIVE]))\n",
    "\n",
    "#Test dataset \n",
    "#Positive users (number of depressed users)\n",
    "print(len(test_data[DatasetTest.POSITIVE]))\n",
    "\n",
    "#Test dataset \n",
    "#Negative users (number of non-depressed users)\n",
    "print(len(test_data[DatasetTest.NEGATIVE]))"
   ]
  },
  {
   "cell_type": "markdown",
   "metadata": {},
   "source": [
    "### Collecting the data into one textual list for preprocessing steps"
   ]
  },
  {
   "cell_type": "code",
   "execution_count": 82,
   "metadata": {},
   "outputs": [],
   "source": [
    "#initializing the lists for inputs and truth vectors\n",
    "training_posts = []\n",
    "test_posts = []\n",
    "training_truth = []\n",
    "test_truth = []"
   ]
  },
  {
   "cell_type": "code",
   "execution_count": 83,
   "metadata": {},
   "outputs": [],
   "source": [
    "for post in training_data[DatasetTraining.POSITIVE]:\n",
    "    content = post.title.strip()+post.content.strip()\n",
    "    training_posts.append(content)\n",
    "    training_truth.append(1)\n",
    "    \n",
    "for post in training_data[DatasetTraining.NEGATIVE]:\n",
    "    content = post.title.strip()+post.content.strip()\n",
    "    training_posts.append(content)\n",
    "    training_truth.append(0)\n",
    "    \n",
    "for post in test_data[DatasetTest.POSITIVE]:\n",
    "    content = post.title.strip()+post.content.strip()\n",
    "    test_posts.append(content)\n",
    "    test_truth.append(1)\n",
    "\n",
    "for post in test_data[DatasetTest.NEGATIVE]:\n",
    "    content = post.title.strip()+post.content.strip()\n",
    "    test_posts.append(content)\n",
    "    test_truth.append(0)\n"
   ]
  },
  {
   "cell_type": "markdown",
   "metadata": {},
   "source": [
    "### Let's check whether the data matches"
   ]
  },
  {
   "cell_type": "code",
   "execution_count": 84,
   "metadata": {},
   "outputs": [
    {
     "name": "stdout",
     "output_type": "stream",
     "text": [
      "295509\n",
      "295509\n",
      "236836\n",
      "236836\n"
     ]
    }
   ],
   "source": [
    "#Training dataset \n",
    "print(len(training_posts))\n",
    "\n",
    "#Training truth\n",
    "print(len(training_truth))\n",
    "\n",
    "#Test dataset \n",
    "print(len(test_posts))\n",
    "\n",
    "#Test truth\n",
    "print(len(test_truth))"
   ]
  },
  {
   "cell_type": "markdown",
   "metadata": {},
   "source": [
    "### Now we have to transform the data... Let's use CountVectorizer for that."
   ]
  },
  {
   "cell_type": "code",
   "execution_count": 105,
   "metadata": {},
   "outputs": [],
   "source": [
    "training_matrix = vectorizer.fit_transform(training_posts).todense()"
   ]
  },
  {
   "cell_type": "markdown",
   "metadata": {},
   "source": [
    "# Implementation of models "
   ]
  },
  {
   "cell_type": "markdown",
   "metadata": {},
   "source": [
    "## Decision trees"
   ]
  },
  {
   "cell_type": "code",
   "execution_count": 106,
   "metadata": {},
   "outputs": [
    {
     "ename": "NameError",
     "evalue": "name 'DecisionTreeClassifier' is not defined",
     "output_type": "error",
     "traceback": [
      "\u001b[0;31m---------------------------------------------------------------------------\u001b[0m",
      "\u001b[0;31mNameError\u001b[0m                                 Traceback (most recent call last)",
      "\u001b[0;32m<ipython-input-106-2c676d9261bd>\u001b[0m in \u001b[0;36m<module>\u001b[0;34m\u001b[0m\n\u001b[1;32m      1\u001b[0m \u001b[0;32mimport\u001b[0m \u001b[0msklearn\u001b[0m\u001b[0;34m.\u001b[0m\u001b[0mtree\u001b[0m\u001b[0;34m\u001b[0m\u001b[0;34m\u001b[0m\u001b[0m\n\u001b[1;32m      2\u001b[0m \u001b[0;34m\u001b[0m\u001b[0m\n\u001b[0;32m----> 3\u001b[0;31m \u001b[0mclf\u001b[0m \u001b[0;34m=\u001b[0m \u001b[0mDecisionTreeClassifier\u001b[0m\u001b[0;34m(\u001b[0m\u001b[0;34m)\u001b[0m\u001b[0;34m\u001b[0m\u001b[0;34m\u001b[0m\u001b[0m\n\u001b[0m",
      "\u001b[0;31mNameError\u001b[0m: name 'DecisionTreeClassifier' is not defined"
     ]
    }
   ],
   "source": [
    "from sklearn.tree import DecisionTreeClassifier\n",
    "\n",
    "clf = DecisionTreeClassifier()"
   ]
  },
  {
   "cell_type": "code",
   "execution_count": null,
   "metadata": {},
   "outputs": [],
   "source": []
  }
 ],
 "metadata": {
  "kernelspec": {
   "display_name": "Python 3",
   "language": "python",
   "name": "python3"
  },
  "language_info": {
   "codemirror_mode": {
    "name": "ipython",
    "version": 3
   },
   "file_extension": ".py",
   "mimetype": "text/x-python",
   "name": "python",
   "nbconvert_exporter": "python",
   "pygments_lexer": "ipython3",
   "version": "3.7.3"
  }
 },
 "nbformat": 4,
 "nbformat_minor": 2
}
